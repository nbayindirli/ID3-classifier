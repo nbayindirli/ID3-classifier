{
 "cells": [
  {
   "cell_type": "code",
   "execution_count": 1,
   "metadata": {
    "collapsed": true
   },
   "outputs": [],
   "source": [
    "from Data import *"
   ]
  },
  {
   "cell_type": "code",
   "execution_count": 2,
   "metadata": {
    "collapsed": true
   },
   "outputs": [],
   "source": [
    "train = MushroomData(\"../data/train\")"
   ]
  },
  {
   "cell_type": "code",
   "execution_count": 8,
   "metadata": {
    "collapsed": false
   },
   "outputs": [
    {
     "name": "stdout",
     "output_type": "stream",
     "text": [
      "[['e', 'x', 's', 'y', 't', 'l', 'f', 'c', 'b', 'g', 'e', 'c', 's', 's', 'w', 'w', 'p', 'w', 'o', 'p', 'k', 'n', 'g'], ['e', 'f', 's', 'n', 'f', 'n', 'a', 'c', 'b', 'o', 'e', '?', 's', 's', 'o', 'o', 'p', 'n', 'o', 'p', 'b', 'v', 'l'], ['p', 'k', 's', 'e', 'f', 'f', 'f', 'c', 'n', 'b', 't', '?', 'k', 'k', 'p', 'p', 'p', 'w', 'o', 'e', 'w', 'v', 'd'], ['e', 'f', 'f', 'g', 'f', 'n', 'f', 'w', 'b', 'k', 't', 'e', 's', 'f', 'w', 'w', 'p', 'w', 'o', 'e', 'k', 's', 'g'], ['e', 'x', 'f', 'n', 't', 'n', 'f', 'c', 'b', 'w', 't', 'b', 's', 's', 'p', 'w', 'p', 'w', 'o', 'p', 'n', 'v', 'd'], ['e', 'f', 'y', 'n', 't', 'l', 'f', 'c', 'b', 'w', 'e', 'r', 's', 'y', 'w', 'w', 'p', 'w', 'o', 'p', 'k', 's', 'p'], ['p', 'x', 'y', 'g', 'f', 'f', 'f', 'c', 'b', 'h', 'e', 'b', 'k', 'k', 'p', 'n', 'p', 'w', 'o', 'l', 'h', 'v', 'g'], ['p', 'f', 's', 'w', 't', 'n', 'f', 'c', 'b', 'w', 'e', 'b', 's', 's', 'w', 'w', 'p', 'w', 't', 'p', 'r', 'v', 'm'], ['e', 'x', 'f', 'g', 't', 'n', 'f', 'c', 'b', 'w', 't', 'b', 's', 's', 'w', 'w', 'p', 'w', 'o', 'p', 'n', 'y', 'd'], ['e', 'f', 'y', 'r', 'f', 'n', 'f', 'c', 'n', 'p', 'e', '?', 's', 'f', 'w', 'w', 'p', 'w', 'o', 'f', 'h', 'y', 'd']]\n"
     ]
    }
   ],
   "source": [
    "print(train.data[0:10])"
   ]
  },
  {
   "cell_type": "code",
   "execution_count": 5,
   "metadata": {
    "collapsed": false
   },
   "outputs": [
    {
     "name": "stdout",
     "output_type": "stream",
     "text": [
      "[FeatureVal(feature=1, value='b'), FeatureVal(feature=1, value='c'), FeatureVal(feature=1, value='f'), FeatureVal(feature=1, value='k'), FeatureVal(feature=1, value='s'), FeatureVal(feature=1, value='x'), FeatureVal(feature=2, value='f'), FeatureVal(feature=2, value='g'), FeatureVal(feature=2, value='s'), FeatureVal(feature=2, value='y'), FeatureVal(feature=3, value='b'), FeatureVal(feature=3, value='c'), FeatureVal(feature=3, value='e'), FeatureVal(feature=3, value='g'), FeatureVal(feature=3, value='n'), FeatureVal(feature=3, value='p'), FeatureVal(feature=3, value='r'), FeatureVal(feature=3, value='u'), FeatureVal(feature=3, value='w'), FeatureVal(feature=3, value='y'), FeatureVal(feature=4, value='f'), FeatureVal(feature=4, value='t'), FeatureVal(feature=5, value='a'), FeatureVal(feature=5, value='c'), FeatureVal(feature=5, value='f'), FeatureVal(feature=5, value='l'), FeatureVal(feature=5, value='m'), FeatureVal(feature=5, value='n'), FeatureVal(feature=5, value='p'), FeatureVal(feature=5, value='s'), FeatureVal(feature=5, value='y'), FeatureVal(feature=6, value='a'), FeatureVal(feature=6, value='f'), FeatureVal(feature=7, value='c'), FeatureVal(feature=7, value='w'), FeatureVal(feature=8, value='b'), FeatureVal(feature=8, value='n'), FeatureVal(feature=9, value='b'), FeatureVal(feature=9, value='e'), FeatureVal(feature=9, value='g'), FeatureVal(feature=9, value='h'), FeatureVal(feature=9, value='k'), FeatureVal(feature=9, value='n'), FeatureVal(feature=9, value='o'), FeatureVal(feature=9, value='p'), FeatureVal(feature=9, value='r'), FeatureVal(feature=9, value='u'), FeatureVal(feature=9, value='w'), FeatureVal(feature=9, value='y'), FeatureVal(feature=10, value='e'), FeatureVal(feature=10, value='t'), FeatureVal(feature=11, value='?'), FeatureVal(feature=11, value='b'), FeatureVal(feature=11, value='c'), FeatureVal(feature=11, value='e'), FeatureVal(feature=11, value='r'), FeatureVal(feature=12, value='f'), FeatureVal(feature=12, value='k'), FeatureVal(feature=12, value='s'), FeatureVal(feature=12, value='y'), FeatureVal(feature=13, value='f'), FeatureVal(feature=13, value='k'), FeatureVal(feature=13, value='s'), FeatureVal(feature=13, value='y'), FeatureVal(feature=14, value='b'), FeatureVal(feature=14, value='c'), FeatureVal(feature=14, value='e'), FeatureVal(feature=14, value='g'), FeatureVal(feature=14, value='n'), FeatureVal(feature=14, value='o'), FeatureVal(feature=14, value='p'), FeatureVal(feature=14, value='w'), FeatureVal(feature=14, value='y'), FeatureVal(feature=15, value='b'), FeatureVal(feature=15, value='c'), FeatureVal(feature=15, value='e'), FeatureVal(feature=15, value='g'), FeatureVal(feature=15, value='n'), FeatureVal(feature=15, value='o'), FeatureVal(feature=15, value='p'), FeatureVal(feature=15, value='w'), FeatureVal(feature=15, value='y'), FeatureVal(feature=16, value='p'), FeatureVal(feature=17, value='n'), FeatureVal(feature=17, value='o'), FeatureVal(feature=17, value='w'), FeatureVal(feature=17, value='y'), FeatureVal(feature=18, value='n'), FeatureVal(feature=18, value='o'), FeatureVal(feature=18, value='t'), FeatureVal(feature=19, value='e'), FeatureVal(feature=19, value='f'), FeatureVal(feature=19, value='l'), FeatureVal(feature=19, value='n'), FeatureVal(feature=19, value='p'), FeatureVal(feature=20, value='b'), FeatureVal(feature=20, value='h'), FeatureVal(feature=20, value='k'), FeatureVal(feature=20, value='n'), FeatureVal(feature=20, value='o'), FeatureVal(feature=20, value='r'), FeatureVal(feature=20, value='u'), FeatureVal(feature=20, value='w'), FeatureVal(feature=20, value='y'), FeatureVal(feature=21, value='a'), FeatureVal(feature=21, value='c'), FeatureVal(feature=21, value='n'), FeatureVal(feature=21, value='s'), FeatureVal(feature=21, value='v'), FeatureVal(feature=21, value='y'), FeatureVal(feature=22, value='d'), FeatureVal(feature=22, value='g'), FeatureVal(feature=22, value='l'), FeatureVal(feature=22, value='m'), FeatureVal(feature=22, value='p'), FeatureVal(feature=22, value='u'), FeatureVal(feature=22, value='w')]\n"
     ]
    }
   ],
   "source": [
    "print(sorted(train.features))"
   ]
  },
  {
   "cell_type": "code",
   "execution_count": null,
   "metadata": {
    "collapsed": true
   },
   "outputs": [],
   "source": [
    ""
   ]
  }
 ],
 "metadata": {
  "kernelspec": {
   "display_name": "Python 2",
   "language": "python",
   "name": "python2"
  },
  "language_info": {
   "codemirror_mode": {
    "name": "ipython",
    "version": 2.0
   },
   "file_extension": ".py",
   "mimetype": "text/x-python",
   "name": "python",
   "nbconvert_exporter": "python",
   "pygments_lexer": "ipython2",
   "version": "2.7.10"
  }
 },
 "nbformat": 4,
 "nbformat_minor": 0
}